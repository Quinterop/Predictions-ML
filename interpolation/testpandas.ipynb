{
 "cells": [
  {
   "cell_type": "code",
   "execution_count": 2,
   "metadata": {},
   "outputs": [],
   "source": [
    "import pandas as pd\n",
    "import numpy as np"
   ]
  },
  {
   "cell_type": "code",
   "execution_count": 3,
   "metadata": {},
   "outputs": [
    {
     "data": {
      "text/plain": [
       "date_obs                   object\n",
       "code_insee_departement     object\n",
       "departement                object\n",
       "tmin                      float64\n",
       "tmax                      float64\n",
       "tmoy                      float64\n",
       "dtype: object"
      ]
     },
     "execution_count": 3,
     "metadata": {},
     "output_type": "execute_result"
    }
   ],
   "source": [
    "db = pd.read_csv('temperature-quotidienne-departementale.csv', sep=';')\n",
    "\n",
    "db.dtypes"
   ]
  },
  {
   "cell_type": "code",
   "execution_count": 4,
   "metadata": {},
   "outputs": [
    {
     "name": "stdout",
     "output_type": "stream",
     "text": [
      "         date_obs code_insee_departement     departement   tmin   tmax   tmoy\n",
      "0      2019-10-22                     21       Côte-d'Or  10.90  16.00  13.45\n",
      "1      2019-10-22                     73          Savoie  11.70  18.65  15.18\n",
      "2      2019-10-22                     29       Finistère   7.77  15.48  11.63\n",
      "3      2019-10-22                     48          Lozère   9.70  16.50  13.10\n",
      "4      2019-10-22                     49  Maine-et-Loire   4.40  15.10   9.75\n",
      "...           ...                    ...             ...    ...    ...    ...\n",
      "178267 2023-01-31                     68       Haut-Rhin  -2.15   6.75   2.30\n",
      "178268 2023-01-31                     49  Maine-et-Loire   3.40   9.20   6.30\n",
      "178269 2023-01-31                     52     Haute-Marne   2.10   4.95   3.52\n",
      "178270 2023-01-31                     57         Moselle  -0.80   5.30   2.25\n",
      "178271 2023-01-31                     63     Puy-de-Dôme   0.70   8.70   4.70\n",
      "\n",
      "[178272 rows x 6 columns]\n"
     ]
    }
   ],
   "source": [
    "\n",
    "\n",
    "\n",
    "\n",
    "# db['date_obs'] = pd.to_datetime(db['date_obs'], format='%d/%m/%Y')\n",
    "db['date_obs'] = pd.to_datetime(db['date_obs'], format='%Y-%m-%d')\n",
    "\n",
    "print(db)\n",
    "\n",
    "db.sort_values(by=['code_insee_departement','date_obs'], inplace=True)\n"
   ]
  },
  {
   "cell_type": "code",
   "execution_count": 5,
   "metadata": {},
   "outputs": [
    {
     "name": "stdout",
     "output_type": "stream",
     "text": [
      "        date_obs code_insee_departement departement   tmin   tmax   tmoy\n",
      "143434         0                     01         Ain   5.40   9.40   7.40\n",
      "143554         1                     01         Ain   4.60  14.10   9.35\n",
      "137985         2                     01         Ain   7.20  14.60  10.90\n",
      "146099         3                     01         Ain   6.50  14.20  10.35\n",
      "154634         4                     01         Ain  11.00  14.40  12.70\n",
      "...          ...                    ...         ...    ...    ...    ...\n",
      "176392      1852                     95  Val-d'Oise   3.13   4.77   3.95\n",
      "178202      1853                     95  Val-d'Oise   1.23   3.33   2.28\n",
      "176563      1854                     95  Val-d'Oise  -4.10   4.77   0.33\n",
      "176484      1855                     95  Val-d'Oise   3.40   9.53   6.47\n",
      "176517      1856                     95  Val-d'Oise  -0.90   9.47   4.28\n",
      "\n",
      "[178272 rows x 6 columns]\n"
     ]
    }
   ],
   "source": [
    "# convert date_obs_obs to int starting from 0\n",
    "db['date_obs'] = db['date_obs'] - db['date_obs'].min()\n",
    "\n",
    "db['date_obs'] = db['date_obs'].dt.days\n",
    "print(db)"
   ]
  },
  {
   "cell_type": "code",
   "execution_count": 12,
   "metadata": {},
   "outputs": [
    {
     "name": "stdout",
     "output_type": "stream",
     "text": [
      "date_obs                     5\n",
      "code_insee_departement      01\n",
      "departement                Ain\n",
      "tmin                       6.1\n",
      "tmax                      15.7\n",
      "tmoy                      10.9\n",
      "Name: 142230, dtype: object\n",
      "date_obs                  700\n",
      "code_insee_departement     01\n",
      "departement               Ain\n",
      "tmin                      2.4\n",
      "tmax                      5.4\n",
      "tmoy                      3.9\n",
      "Name: 806, dtype: object\n"
     ]
    }
   ],
   "source": [
    "# extract a single line of index 5\n",
    "line = db.iloc[5]\n",
    "line2 = db.iloc[700]\n",
    "print(line)\n",
    "print(line2)"
   ]
  },
  {
   "cell_type": "code",
   "execution_count": 18,
   "metadata": {},
   "outputs": [
    {
     "name": "stdout",
     "output_type": "stream",
     "text": [
      "interpolating tmin from 6.1 to 2.4 for 450 between 5 and 700\n",
      "result 3.730935251798561\n",
      "interpolating tmax from 15.7 to 5.4 for 450 between 5 and 700\n",
      "result 9.105035971223021\n",
      "interpolating tmoy from 10.9 to 3.9 for 450 between 5 and 700\n",
      "result 6.417985611510792\n"
     ]
    },
    {
     "data": {
      "text/plain": [
       "date_obs                       450\n",
       "code_insee_departement         NaN\n",
       "departement                    NaN\n",
       "tmin                      3.730935\n",
       "tmax                      9.105036\n",
       "tmoy                      6.417986\n",
       "Name: 142230, dtype: object"
      ]
     },
     "execution_count": 18,
     "metadata": {},
     "output_type": "execute_result"
    }
   ],
   "source": [
    "def interpolation(X1,X2,Y1,Y2,XInconnu):\n",
    "    #prevent division by 0\n",
    "    if(X2 == X1):\n",
    "        return Y1\n",
    "    YInconnu = Y2*((XInconnu-X1)/(X2-X1))+Y1*((X2-XInconnu)/(X2-X1))\n",
    "    return YInconnu\n",
    "\n",
    "\n",
    "\n",
    "def interpol_line(line1:pd.core.series.Series, line2:pd.core.series.Series, col2:str, target:int, toInterpol:list[str]=[], toNotInterpol:list[str]=[])->pd.core.series.Series:\n",
    "    #col2 : colonne de temps \n",
    "    #target : temps de la nouvelle ligne\n",
    "    #les temps doivent être des int ou float, peu importe l'échelle\n",
    "\n",
    "    x1 = line1[col2]\n",
    "    x2 = line2[col2]\n",
    "    res = line1.copy()\n",
    "    for col in res.index:\n",
    "        res[col] = np.nan \n",
    "    res[col2] = target\n",
    "    # interpolate all ints in the lines except col2\n",
    "    for col in line1.index:\n",
    "        if(col != col2  ):\n",
    "            #check that col is numeric\n",
    "            if(pd.api.types.is_numeric_dtype(line1[col])):\n",
    "                if(col in toInterpol or col not in toNotInterpol):\n",
    "                    y1 = line1[col]\n",
    "                    y2 = line2[col]\n",
    "                    print(\"interpolating\", col, \"from\", y1, \"to\", y2, \"for\", target, \"between\", x1, \"and\", x2)\n",
    "                    res[col]=(interpolation(x1, x2, y1, y2, target))\n",
    "                    print(\"result\", res[col])\n",
    "    return res\n",
    "\n",
    "(interpol_line(line, line2, 'date_obs', 450))\n"
   ]
  },
  {
   "cell_type": "code",
   "execution_count": 17,
   "metadata": {},
   "outputs": [],
   "source": [
    "db.replace('2A', 102, inplace=True)\n",
    "db.replace('2B', 202, inplace=True)\n"
   ]
  },
  {
   "cell_type": "code",
   "execution_count": 9,
   "metadata": {},
   "outputs": [
    {
     "name": "stdout",
     "output_type": "stream",
     "text": [
      "            date_obs           tmin           tmax           tmoy\n",
      "count  178272.000000  178272.000000  178272.000000  178272.000000\n",
      "mean      928.000000       8.406814      17.760515      13.083663\n",
      "std       536.071151       6.192130       7.984985       6.749619\n",
      "min         0.000000     -16.800000      -7.520000     -10.300000\n",
      "25%       464.000000       3.900000      11.800000       8.080000\n",
      "50%       928.000000       8.500000      17.350000      12.750000\n",
      "75%      1392.000000      13.150000      23.730000      18.280000\n",
      "max      1856.000000      29.400000      42.770000      33.800000\n"
     ]
    }
   ],
   "source": [
    "#show stats\n",
    "print(db.describe())"
   ]
  },
  {
   "cell_type": "code",
   "execution_count": null,
   "metadata": {},
   "outputs": [],
   "source": []
  }
 ],
 "metadata": {
  "kernelspec": {
   "display_name": "base",
   "language": "python",
   "name": "python3"
  },
  "language_info": {
   "codemirror_mode": {
    "name": "ipython",
    "version": 3
   },
   "file_extension": ".py",
   "mimetype": "text/x-python",
   "name": "python",
   "nbconvert_exporter": "python",
   "pygments_lexer": "ipython3",
   "version": "3.9.13"
  },
  "orig_nbformat": 4
 },
 "nbformat": 4,
 "nbformat_minor": 2
}
